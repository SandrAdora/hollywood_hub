{
 "cells": [
  {
   "cell_type": "markdown",
   "id": "23543caa",
   "metadata": {},
   "source": [
    "# -------- Application Layer communicates with the backend and frontend"
   ]
  },
  {
   "cell_type": "code",
   "execution_count": 7,
   "id": "51db6a59",
   "metadata": {},
   "outputs": [],
   "source": [
    "\n",
    "import requests\n",
    "import anvil.server\n",
    "import numpy as np\n",
    "import json\n",
    "import anvil.media\n",
    "import os\n",
    "import shutil\n",
    "import re\n",
    "import numpy as np\n",
    "from helperFunctions import  img_url_extractor, extract_infos, load_image, save_image, available_actors, best_known_for_genre, average_rating_of_each_actor\n",
    "\n",
    "\n",
    "# ------- Fast API URL ----------------\n",
    "# To run make sure server unvicorn is running\n",
    "FASTAPI_URL_SWAGGER = \"http://127.0.0.1:8000/docs\" # Shows all Endpoints at once\n",
    "FASTAPI_URL = \"http://127.0.0.1:8000/\" # root\n",
    "FASTAPI_CELEBS_URL = \"http://127.0.0.1:8000/most_popular_celebrities\"\n",
    "FASTAPI_MOVIES = \"http://127.0.0.1:8000/movies\"\n",
    "\n",
    "\"http://127.0.0.1:8000/actors/1\" # <----- you can try out different numbers [1 - 50]\n",
    "\"http://127.0.0.1:8000/actor/1\" # <----- you can try out different numbers [1 - 50]\n",
    "\"http://127.0.0.1:8000/award/1\" # <----- you can try out different numbers [1 - 50]\n",
    "\"http://127.0.0.1:8000/movie/3\" # <----- you can try out different numbers [1 - 50]\n",
    "\n",
    "\n",
    "# ----- Anvil Section: Setting up User Interface communication -----\n",
    "SERVER_Key = \"server_ATDO2RYYLYOUFL7T4GLFNOPK-EXXUFTIZNGRXOSVW\"\n",
    "\n",
    "## --- User Interface: concection\n",
    "anvil.server.connect(SERVER_Key)\n",
    "\n",
    "\n",
    "# ------- Celabrities data\n",
    "csv_file = \"data/actors_ids_names_birthdates.csv\""
   ]
  },
  {
   "cell_type": "markdown",
   "id": "641a4219",
   "metadata": {},
   "source": [
    "### --------------GET Methods -----------------"
   ]
  },
  {
   "cell_type": "code",
   "execution_count": 8,
   "id": "707997aa",
   "metadata": {},
   "outputs": [
    {
     "name": "stdout",
     "output_type": "stream",
     "text": [
      "Warning: a callable with the name 'display_all_actors' has already been registered (previously by '__main__.display_all_actors' now by '__main__.display_all_actors').\n"
     ]
    }
   ],
   "source": [
    "@anvil.server.callable\n",
    "def display_all_actors():\n",
    "    \"\"\"Loads celebrities from FastAPI endpoint by making a request.\n",
    "        processes their images, and returns a list of actor data.\n",
    "    \n",
    "    Args:\n",
    "        None:\n",
    "    Returns: \n",
    "        list (List): List of all available actors\n",
    "    \"\"\"\n",
    "    res = requests.get(FASTAPI_CELEBS_URL)\n",
    "    if res.status_code != 200:\n",
    "        print(\"Error: Status code retured Error\")\n",
    "        return None\n",
    "    img_path = \"data/images\"   \n",
    "    # Ensure the image folder exists\n",
    "    if not os.path.exists(img_path):\n",
    "        print(f\"Path {img_path} does not exist.\")\n",
    "        return None\n",
    "    best_known_for = \"\"\n",
    "    lists_of_actors = []\n",
    "    result = res.json()\n",
    "    for actor in result:\n",
    "        img_name = actor[\"name\"].lower().replace(\" \", \"_\")\n",
    "        name = actor[\"name\"]\n",
    "        birthdate = actor[\"birthday\"]\n",
    "        best_known_for = best_known_for_genre(name)\n",
    "        \n",
    "        lists_of_actors.append({\n",
    "            \"name\": name,\n",
    "            \"birthdate\": birthdate,\n",
    "            \"image\": anvil.BlobMedia(\"image/JPEG\", open(f\"data/images/{img_name}.jpg\", \"rb\").read()),\n",
    "            \"actor_genre\": best_known_for\n",
    "        })\n",
    "    return lists_of_actors\n",
    "\n",
    "# Keeps the uplink running (if needed)\n",
    "#anvil.server.wait_forever()"
   ]
  },
  {
   "cell_type": "code",
   "execution_count": 9,
   "id": "6313856d",
   "metadata": {},
   "outputs": [
    {
     "name": "stdout",
     "output_type": "stream",
     "text": [
      "Warning: a callable with the name 'all_time_movies' has already been registered (previously by '__main__.all_time_movies' now by '__main__.all_time_movies').\n"
     ]
    }
   ],
   "source": [
    "@anvil.server.callable\n",
    "def all_time_movies(person: str):\n",
    "    \"\"\"This function returns all the movies an actor stared in \n",
    "    In addition it returns the average rating of each actor\n",
    "    Parameter: \n",
    "        name (str): Full name of an actor\n",
    "        \n",
    "    Return: \n",
    "        movies (list): List of movies an actor stared in\n",
    "        average (float): Average Rating number \"\"\"\n",
    "    list_of_movies = []\n",
    "    \"\"\"This function returns the list of all movies an actor stared in \"\"\"\n",
    "    img_folder = person.lower().replace(\" \", \"_\")\n",
    "\n",
    "    top_movies = []\n",
    "    res = requests.get(FASTAPI_CELEBS_URL)\n",
    "    if res.status_code != 200:\n",
    "        print(\"Status Error: Connection not possible\")\n",
    "        return None\n",
    "    actors = res.json()\n",
    "    id = None\n",
    "    for data in actors:\n",
    "        if person.lower() == data[\"name\"].lower():\n",
    "            id = data[\"id\"]\n",
    "    if id is None:\n",
    "        return [] # Return an empty list if actor cannot be found\n",
    "    movies = requests.get(f\"http://127.0.0.1:8000/movie/{id}\")\n",
    "    actor_movies = movies.json()\n",
    "    i = 1\n",
    "    for movie in actor_movies:\n",
    "    \n",
    "        title = movie[\"title\"]\n",
    "        img_name = re.sub(r'[\\/:*?\"<>|]', '_', title)\n",
    "        img_name = img_name.replace(\" \", \"_\")\n",
    "        rating = movie[\"rating\"]\n",
    "        genre = movie[\"genre\"]\n",
    "        year = movie[\"year\"]\n",
    "        top_movies.append(\n",
    "            {\n",
    "            \"movie_image\": anvil.BlobMedia(\"image/JPEG\", open(f\"data/images/movie_images_{img_folder}/{img_name}.jpg\", \"rb\").read()),\n",
    "            \"movie_title\": title,\n",
    "            \"movie_rating\" : rating,\n",
    "            \"movie_genre\": genre,\n",
    "            \"movie_year\": year               \n",
    "            }\n",
    "        )\n",
    "    return top_movies"
   ]
  },
  {
   "cell_type": "code",
   "execution_count": 10,
   "id": "503b1eff",
   "metadata": {},
   "outputs": [
    {
     "name": "stdout",
     "output_type": "stream",
     "text": [
      "Warning: a callable with the name 'actor_profile' has already been registered (previously by '__main__.actor_profile' now by '__main__.actor_profile').\n"
     ]
    }
   ],
   "source": [
    "@anvil.server.callable\n",
    "def actor_profile(name_input):\n",
    "    \"\"\"This Function returns the profile of a specific actor when full name is given\n",
    "    It sends a request to the fastapi endpoints to retieve the data its needs from an actor\n",
    "    \n",
    "    Args:\n",
    "        name (str): Full name of an actor\n",
    "    Returns: \n",
    "        profile (list): List of an actor's achievments\n",
    "    \"\"\"\n",
    "    list_of_profiles = []\n",
    "\n",
    "    res = requests.get(FASTAPI_CELEBS_URL)\n",
    "    if res.status_code != 200:\n",
    "        print(\"Error: Connection not possible\")\n",
    "        return None\n",
    "    actors = res.json()\n",
    "    id = None\n",
    "    for data in actors:\n",
    "        if name_input.lower() == data[\"name\"].lower():\n",
    "            id = data[\"id\"]\n",
    "    if id is None:\n",
    "        return [] # Return empty list for actor not found      \n",
    "    pros_res = requests.get(f\"http://127.0.0.1:8000/actors/{id}\")\n",
    "    awards_res = requests.get(f\"http://127.0.0.1:8000/award/{id}\")\n",
    "    awards = awards_res.json()\n",
    "    profile = pros_res.json() \n",
    "    \n",
    "    img_name = profile[\"name\"].lower().replace(\" \", \"_\")\n",
    "    actor_name = profile[\"name\"]\n",
    "    birthdate = profile[\"birthday\"]\n",
    "    biography = profile[\"biography\"]\n",
    "    nominations = awards[\"nominations\"]\n",
    "    award_won = awards[\"award_won\"]\n",
    "\n",
    "    list_of_profiles.append(\n",
    "        {\n",
    "            \"actor_name_profile\": actor_name,\n",
    "            \"birthdate_profile\": birthdate, \n",
    "            \"biography\": biography, \n",
    "            \"image_profile\": anvil.BlobMedia(\"image/JPEG\", open(f\"data/images/{img_name}.jpg\", \"rb\").read()),\n",
    "            \"nominations\": nominations,\n",
    "            \"won\": award_won,\n",
    "            \"average_rating\" : round(average_rating_of_each_actor(actor_name), 2)\n",
    "            \n",
    "        }\n",
    "    )    \n",
    "    return list_of_profiles"
   ]
  },
  {
   "cell_type": "code",
   "execution_count": 11,
   "id": "632f64ad",
   "metadata": {},
   "outputs": [
    {
     "name": "stdout",
     "output_type": "stream",
     "text": [
      "Warning: a callable with the name 'get_actors_movies' has already been registered (previously by '__main__.get_actors_movies' now by '__main__.get_actors_movies').\n"
     ]
    }
   ],
   "source": [
    "\n",
    "@anvil.server.callable\n",
    "def get_actors_movies(person):\n",
    "    \"\"\"This function returns the list of all movies an actor stared in \"\"\"\n",
    "    img_folder = person.lower().replace(\" \", \"_\")\n",
    "\n",
    "    top_5_movies = []\n",
    "    res = requests.get(FASTAPI_CELEBS_URL)\n",
    "    if res.status_code != 200:\n",
    "        print(\"Error: Connection not possible\")\n",
    "        return None\n",
    "    actors = res.json()\n",
    "    id = None\n",
    "    for data in actors:\n",
    "        if person.lower() == data[\"name\"].lower():\n",
    "            id = data[\"id\"]\n",
    "    if id is None:\n",
    "        return [] # Return empty list if actor does not exist\n",
    "    movies = requests.get(f\"http://127.0.0.1:8000/movie/{id}\")\n",
    "    actor_movies = movies.json()\n",
    "    i = 1\n",
    "    for movie in actor_movies:\n",
    "        if i <= 5:\n",
    "            title = movie[\"title\"]\n",
    "            img_name = re.sub(r'[\\/:*?\"<>|]', '_', title)\n",
    "            img_name = img_name.replace(\" \", \"_\")\n",
    "            rating = movie[\"rating\"]\n",
    "            genre = movie[\"genre\"]\n",
    "            year = movie[\"year\"]\n",
    "            top_5_movies.append(\n",
    "                {\n",
    "                \"movie_image\": anvil.BlobMedia(\"image/JPEG\", open(f\"data/images/movie_images_{img_folder}/{img_name}.jpg\", \"rb\").read()),\n",
    "                \"movie_title\": title,\n",
    "                \"movie_rating\" : rating,\n",
    "                \"movie_genre\": genre,\n",
    "                \"movie_year\": year               \n",
    "                }\n",
    "            )\n",
    "            i += 1\n",
    "    return top_5_movies"
   ]
  },
  {
   "cell_type": "code",
   "execution_count": 12,
   "id": "7ce0afae",
   "metadata": {},
   "outputs": [
    {
     "name": "stdout",
     "output_type": "stream",
     "text": [
      "Warning: a callable with the name 'get_actor_awards' has already been registered (previously by '__main__.get_actor_awards' now by '__main__.get_actor_awards').\n"
     ]
    }
   ],
   "source": [
    "@anvil.server.callable\n",
    "def get_actor_awards(name):\n",
    "    \"\"\"This function returns a list of all awards an actor won\"\"\"\n",
    "    res = requests.get(\"http://127.0.0.1:8000/most_popular_celebrities\")\n",
    "    if res.status_code != 200:\n",
    "        print(\"Error: Connection not possible\")\n",
    "        return None\n",
    "    \n",
    "    actors = res.json()\n",
    "    id = None\n",
    "    for data in actors:\n",
    "        if data[\"name\"].lower() == name.lower():\n",
    "            id = data[\"id\"]\n",
    "    if id is None: \n",
    "        return [] # Return empty list when actor cannot be found\n",
    "    res_award = requests.get(f\"http://127.0.0.1:8000/award/{id}\") \n",
    "    awards_data = res_award.json()\n",
    "    list_of_awards = []\n",
    "    awards = awards_data[\"award_name\"]\n",
    "    years = awards_data[\"year\"]\n",
    "    \n",
    "    for award, year in zip([awards[i] for i in range(len(awards))], [years[k] for k in range(len(years))]):\n",
    "        list_of_awards.append(\n",
    "            {\n",
    "                \"award_name\": award, \n",
    "                \"award_year\": year\n",
    "            }\n",
    "        )\n",
    "    return list_of_awards"
   ]
  }
 ],
 "metadata": {
  "kernelspec": {
   "display_name": ".docs",
   "language": "python",
   "name": "python3"
  },
  "language_info": {
   "codemirror_mode": {
    "name": "ipython",
    "version": 3
   },
   "file_extension": ".py",
   "mimetype": "text/x-python",
   "name": "python",
   "nbconvert_exporter": "python",
   "pygments_lexer": "ipython3",
   "version": "3.13.5"
  }
 },
 "nbformat": 4,
 "nbformat_minor": 5
}
